{
 "cells": [
  {
   "cell_type": "code",
   "execution_count": null,
   "metadata": {},
   "outputs": [],
   "source": [
    "library(ggplot2)\n",
    "library(RColorBrewer)\n",
    "theme_set(theme_bw())\n",
    "library(dplyr)"
   ]
  },
  {
   "cell_type": "markdown",
   "metadata": {},
   "source": [
    "# 2018-12-13 Compare salmon and kallisto\n",
    "I continue the discussion from this same day."
   ]
  },
  {
   "cell_type": "code",
   "execution_count": null,
   "metadata": {},
   "outputs": [],
   "source": [
    "# files and directories\n",
    "tissue_ai_rootdir <- \"../\"\n",
    "mapdir <- sprintf(\"%s/scratch/test_map\", tissue_ai_rootdir)\n",
    "kallis_fname <- sprintf(\"%s/kallisto_out/abundance.tsv\", mapdir)\n",
    "salmon_fname <- sprintf(\"%s/transcripts_quant/quant.sf\", mapdir)\n",
    "\n",
    "# load both files\n",
    "kallis = read.csv(kallis_fname, sep='\\t')\n",
    "salmon = read.csv(salmon_fname, sep='\\t')"
   ]
  },
  {
   "cell_type": "markdown",
   "metadata": {},
   "source": [
    "If we look at the size of the two tables we realize that the number of rows does not coincide. Therefore, we first prepare an array with the names of the transcripts that the two have in common."
   ]
  },
  {
   "cell_type": "code",
   "execution_count": null,
   "metadata": {},
   "outputs": [],
   "source": [
    "# get names of transcripts from the two\n",
    "kallis.names <- kallis$target_id\n",
    "salmon.names <- salmon$Name\n",
    "\n",
    "# intersect the names\n",
    "names <- intersect(kallis.names, salmon.names)"
   ]
  },
  {
   "cell_type": "code",
   "execution_count": null,
   "metadata": {},
   "outputs": [],
   "source": [
    "# subset the kallis table with only the names present in the intersection\n",
    "kallis.common <- subset(kallis, target_id %in% names)\n",
    "rownames(kallis.common) <- kallis.common$target_id\n",
    "kallis.common <- kallis.common[,-1]\n",
    "colnames(kallis.common) <- paste(\"kallisto.\", colnames(kallis.common), sep=\"\")\n",
    "\n",
    "# and do the same for the salmon\n",
    "salmon.common <- subset(salmon, Name %in% names)\n",
    "rownames(salmon.common) <- salmon.common$Name\n",
    "salmon.common <- salmon.common[,-1]\n",
    "colnames(salmon.common) <- paste(\"salmon.\", colnames(salmon.common), sep=\"\")\n",
    "\n",
    "# bind the two\n",
    "X <- cbind(kallis.common, salmon.common)"
   ]
  },
  {
   "cell_type": "markdown",
   "metadata": {},
   "source": [
    "Let's see whether the two algorithms agree on the transcript length."
   ]
  },
  {
   "cell_type": "code",
   "execution_count": null,
   "metadata": {},
   "outputs": [],
   "source": [
    "sum(X$kallisto.length == X$salmon.Length) == nrow(X)"
   ]
  },
  {
   "cell_type": "markdown",
   "metadata": {},
   "source": [
    "Yes, they agree. Now let's have a look at how the tpm values compare."
   ]
  },
  {
   "cell_type": "code",
   "execution_count": null,
   "metadata": {},
   "outputs": [],
   "source": [
    "X"
   ]
  },
  {
   "cell_type": "code",
   "execution_count": null,
   "metadata": {},
   "outputs": [],
   "source": [
    "options(repr.plot.width = 5, repr.plot.height = 3)\n",
    "ggplot(X, aes(x = 1+kallisto.tpm, y = 1+salmon.TPM)) + geom_point(aes(color=log(kallisto.length))) +\n",
    "scale_x_continuous(trans=\"log10\") +\n",
    "scale_y_continuous(trans=\"log10\") +\n",
    "scale_colour_gradient(low = \"blue\", high = \"red\") +\n",
    "labs(x = \"Kallisto\", y = \"Salmon\", title = \"TPM comparison\")"
   ]
  },
  {
   "cell_type": "code",
   "execution_count": null,
   "metadata": {},
   "outputs": [],
   "source": [
    "options(repr.plot.width = 5, repr.plot.height = 3)\n",
    "ggplot(X, aes(x = 1+kallisto.est_counts, y = 1+salmon.NumReads)) + geom_point(aes(color=log(kallisto.length))) +\n",
    "scale_x_continuous(trans=\"log10\") +\n",
    "scale_y_continuous(trans=\"log10\") +\n",
    "scale_colour_gradient(low = \"blue\", high = \"red\") +\n",
    "labs(x = \"Kallisto\", y = \"Salmon\", title = \"Counts comparison\")"
   ]
  },
  {
   "cell_type": "markdown",
   "metadata": {},
   "source": [
    "So there is no clear indicator of what might be the reality here. The two algorithms give different results, and it is difficult to say now which one we will choose.\n",
    "\n",
    "I want to try to see what happens at the gene level."
   ]
  },
  {
   "cell_type": "code",
   "execution_count": null,
   "metadata": {},
   "outputs": [],
   "source": [
    "library(biomaRt)"
   ]
  },
  {
   "cell_type": "code",
   "execution_count": null,
   "metadata": {},
   "outputs": [],
   "source": [
    "# load the ENSEMBL mart\n",
    "mart <- useMart(biomart = \"ensembl\", dataset = \"hsapiens_gene_ensembl\")"
   ]
  },
  {
   "cell_type": "code",
   "execution_count": null,
   "metadata": {},
   "outputs": [],
   "source": [
    "# get the gene ids corresponding to our transcripts\n",
    "transcript.to.gene <- getBM(attributes = c(\"ensembl_transcript_id_version\",\n",
    "                                           \"ensembl_gene_id_version\"),\n",
    "                  filters = \"ensembl_transcript_id_version\",\n",
    "                  values = names,\n",
    "                  mart = mart)\n",
    "rownames(transcript.to.gene) <- transcript.to.gene$ensembl_transcript_id_version\n",
    "X$gene_id <- transcript.to.gene$ensembl_gene_id_version"
   ]
  },
  {
   "cell_type": "code",
   "execution_count": null,
   "metadata": {},
   "outputs": [],
   "source": [
    "# list of unique genes\n",
    "genes <- unique(transcript.to.gene$ensembl_gene_id_version)"
   ]
  },
  {
   "cell_type": "code",
   "execution_count": null,
   "metadata": {},
   "outputs": [],
   "source": [
    "# beautiful one-liner that is lightning-fast and calculates sum by gene of transcript counts\n",
    "bygene <- X %>% dplyr::group_by(gene_id) %>%\n",
    "dplyr::summarize(kallisto = sum(kallisto.est_counts),\n",
    "                 salmon = sum(salmon.NumReads),\n",
    "                 size = sum(kallisto.length))"
   ]
  },
  {
   "cell_type": "code",
   "execution_count": null,
   "metadata": {},
   "outputs": [],
   "source": [
    "options(repr.plot.width = 4, repr.plot.height = 3)\n",
    "ggplot(bygene, aes(x = 1+kallisto, y = 1+salmon)) + geom_point(aes(color=log(size))) +\n",
    "scale_x_continuous(trans=\"log10\") +\n",
    "scale_y_continuous(trans=\"log10\") +\n",
    "scale_colour_gradient(low = \"blue\", high = \"red\") +\n",
    "labs(x = \"Kallisto\", y = \"Salmon\", title = \"Counts comparison by gene\")"
   ]
  },
  {
   "cell_type": "markdown",
   "metadata": {},
   "source": [
    "Conclusion: The comparison between the two algorithms reveals that gene-level results of the two algorithms are much better."
   ]
  }
 ],
 "metadata": {
  "kernelspec": {
   "display_name": "R",
   "language": "R",
   "name": "ir"
  },
  "language_info": {
   "codemirror_mode": "r",
   "file_extension": ".r",
   "mimetype": "text/x-r-source",
   "name": "R",
   "pygments_lexer": "r"
  }
 },
 "nbformat": 4,
 "nbformat_minor": 2
}
